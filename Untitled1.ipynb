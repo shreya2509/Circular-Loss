{
 "cells": [
  {
   "cell_type": "code",
   "execution_count": 19,
   "metadata": {
    "collapsed": true
   },
   "outputs": [],
   "source": [
    "import cv2\n",
    "import numpy as np\n",
    "import matplotlib.pyplot as plt\n",
    "import math"
   ]
  },
  {
   "cell_type": "code",
   "execution_count": 24,
   "metadata": {
    "collapsed": true
   },
   "outputs": [],
   "source": [
    "def Rayloss(output):\n",
    "    im = output\n",
    "    imgray = cv2.cvtColor(im,cv2.COLOR_BGR2GRAY)\n",
    "    test_im = imgray/255\n",
    "\n",
    "    test_im[test_im>0.5]=1\n",
    "    test_im[test_im<0.5]=0\n",
    "\n",
    "    kernel = np.ones((8,8),np.uint8)   \n",
    "    img_dilation = cv2.dilate(test_im, kernel, iterations=1)\n",
    "    img_dilation = cv2.normalize(src=img_dilation, dst=None, alpha=0, beta=255, norm_type=cv2.NORM_MINMAX, dtype=cv2.CV_8UC1)\n",
    "    _,contours,hier = cv2.findContours(img_dilation,cv2.RETR_EXTERNAL,2)\n",
    "\n",
    "    LENGTH = len(contours)\n",
    "    status = np.zeros((LENGTH,1))\n",
    "\n",
    "    for i,cnt1 in enumerate(contours):\n",
    "        x = i    \n",
    "        if i != LENGTH-1:\n",
    "            for j,cnt2 in enumerate(contours[i+1:]):\n",
    "                x = x+1\n",
    "                dist = find_if_close(cnt1,cnt2)\n",
    "                if dist == True:\n",
    "                    val = min(status[i],status[x])\n",
    "                    status[x] = status[i] = val\n",
    "                else:\n",
    "                    if status[x]==status[i]:\n",
    "                        status[x] = i+1\n",
    "\n",
    "    unified = []\n",
    "    maximum = int(status.max())+1\n",
    "    for i in range(0,maximum):\n",
    "        pos = np.where(status==i)[0]\n",
    "        if pos.size != 0:\n",
    "            cont = np.vstack(contours[i] for i in pos)\n",
    "            #print(cont)\n",
    "            hull = cv2.convexHull(cont)\n",
    "            #print (hull)\n",
    "            unified.append(hull)\n",
    "    odds = 0\n",
    "    for h in unified:\n",
    "        #hull = cv2.convexHull(cnt)\n",
    "\n",
    "        i+=1\n",
    "        im3=output\n",
    "        black = np.zeros_like(im3)\n",
    "        img = im3.copy()\n",
    "        black2 = black.copy()\n",
    "\n",
    "        #--- Here is where I am filling the contour after finding the convex hull ---\n",
    "        cv2.drawContours(black2, [h], -1, (255, 255, 255), -1)\n",
    "        g2 = cv2.cvtColor(black2, cv2.COLOR_BGR2GRAY)\n",
    "        r, t2 = cv2.threshold(g2, 127, 255, cv2.THRESH_BINARY)\n",
    "        #cv2.imshow(\"t2.jpg\", t2)\n",
    "\n",
    "        masked = cv2.bitwise_and(im3, im3, mask = t2) \n",
    "        masked=cv2.cvtColor(masked,cv2.COLOR_BGR2GRAY)\n",
    "        M = cv2.moments(h)\n",
    "        cx = int(M['m10']/M['m00'])\n",
    "        cy = int(M['m01']/M['m00'])\n",
    "        cx=cx/10\n",
    "        cy=cy/10\n",
    "        plt.imshow(masked,cmap='gray')\n",
    "        height, width = masked.shape[:2]\n",
    "        ymax = int(height/10)\n",
    "        xmax = int(width/10)\n",
    "        masked = cv2.resize(masked,(int(height/10), int(width/10)))\n",
    "\n",
    "        for theta in range (0,360):\n",
    "            theta = 0.5*theta\n",
    "\n",
    "            r=1\n",
    "            x1=1\n",
    "            y1=1\n",
    "            intersects=0        \n",
    "            while(x1<xmax-1 and y1<ymax-1 and x1>-1 and y1>-1):\n",
    "                x=r*math.cos(math.radians(theta))\n",
    "                y=r*math.sin(math.radians(theta))\n",
    "                x1=int(x+cx)\n",
    "                y1=int(y+cy)\n",
    "              \n",
    "                if(masked[x1][y1]==1):\n",
    "                    intersects+=1\n",
    "                r+=0.5    \n",
    "            r=1\n",
    "            x1=1\n",
    "            y1=1\n",
    "            while(x1>-1 and y1>-1 and x1<xmax-1 and y1<ymax-1):\n",
    "                x=r*math.cos(math.radians(theta))\n",
    "                y=r*math.sin(math.radians(theta))\n",
    "                x1=int(x+cx)\n",
    "                y1=int(y+cy)\n",
    "          \n",
    "                if(masked[x1][y1]):\n",
    "                    intersects+=1\n",
    "                r-=0.5 \n",
    "            if (intersects%2):\n",
    "                odds+=1\n",
    "    return odds\n"
   ]
  },
  {
   "cell_type": "code",
   "execution_count": 21,
   "metadata": {
    "collapsed": true
   },
   "outputs": [],
   "source": [
    "def find_if_close(cnt1,cnt2):\n",
    "    row1,row2 = cnt1.shape[0],cnt2.shape[0]\n",
    "    for i in range(0,row1):\n",
    "        for j in range(0,row2):\n",
    "            dist = np.linalg.norm(cnt1[i]-cnt2[j])\n",
    "            if abs(dist) < 30 :\n",
    "                return True\n",
    "            elif i==row1-1 and j==row2-1:\n",
    "                return False"
   ]
  },
  {
   "cell_type": "code",
   "execution_count": 22,
   "metadata": {},
   "outputs": [
    {
     "data": {
      "text/plain": [
       "<matplotlib.image.AxesImage at 0x101cc3c18>"
      ]
     },
     "execution_count": 22,
     "metadata": {},
     "output_type": "execute_result"
    },
    {
     "data": {
      "image/png": "[encoded data removed]",
      "text/plain": [
       "<matplotlib.figure.Figure at 0x1023fd320>"
      ]
     },
     "metadata": {
      "needs_background": "light"
     },
     "output_type": "display_data"
    }
   ],
   "source": [
    "im = cv2.imread(\"test_results_1/original_normalized_4/DSLC0006-normalized.bmp\")\n",
    "imgray = cv2.cvtColor(im,cv2.COLOR_BGR2GRAY)\n",
    "plt.imshow(imgray,cmap='gray')"
   ]
  },
  {
   "cell_type": "code",
   "execution_count": 25,
   "metadata": {},
   "outputs": [
    {
     "data": {
      "text/plain": [
       "21"
      ]
     },
     "execution_count": 25,
     "metadata": {},
     "output_type": "execute_result"
    },
    {
     "data": {
      "image/png": "[encoded data removed]",
      "text/plain": [
       "<matplotlib.figure.Figure at 0x100fc1160>"
      ]
     },
     "metadata": {
      "needs_background": "light"
     },
     "output_type": "display_data"
    }
   ],
   "source": [
    "Rayloss(im)"
   ]
  },
  {
   "cell_type": "code",
   "execution_count": null,
   "metadata": {
    "collapsed": true
   },
   "outputs": [],
   "source": []
  }
 ],
 "metadata": {
  "kernelspec": {
   "display_name": "cv",
   "language": "python",
   "name": "cv"
  },
  "language_info": {
   "codemirror_mode": {
    "name": "ipython",
    "version": 3
   },
   "file_extension": ".py",
   "mimetype": "text/x-python",
   "name": "python",
   "nbconvert_exporter": "python",
   "pygments_lexer": "ipython3",
   "version": "3.6.2"
  }
 },
 "nbformat": 4,
 "nbformat_minor": 2
}
