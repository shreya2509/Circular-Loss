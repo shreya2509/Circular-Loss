{
 "cells": [
  {
   "cell_type": "code",
   "execution_count": 52,
   "metadata": {
    "collapsed": true
   },
   "outputs": [],
   "source": [
    "import cv2\n",
    "import numpy as np\n",
    "import matplotlib.pyplot as plt\n",
    "import math"
   ]
  },
  {
   "cell_type": "code",
   "execution_count": 3,
   "metadata": {},
   "outputs": [
    {
     "data": {
      "text/plain": [
       "<matplotlib.image.AxesImage at 0x11cfd6358>"
      ]
     },
     "execution_count": 3,
     "metadata": {},
     "output_type": "execute_result"
    },
    {
     "data": {
      "image/png": "[encoded data removed]",
      "text/plain": [
       "<matplotlib.figure.Figure at 0x10a492ba8>"
      ]
     },
     "metadata": {
      "needs_background": "light"
     },
     "output_type": "display_data"
    }
   ],
   "source": [
    "im = cv2.imread(\"test_results_1/original_normalized_4/DSLC0006-normalized.bmp\")\n",
    "imgray = cv2.cvtColor(im,cv2.COLOR_BGR2GRAY)\n",
    "plt.imshow(imgray,cmap='gray')"
   ]
  },
  {
   "cell_type": "code",
   "execution_count": 4,
   "metadata": {},
   "outputs": [
    {
     "data": {
      "text/plain": [
       "<matplotlib.image.AxesImage at 0x11d28c860>"
      ]
     },
     "execution_count": 4,
     "metadata": {},
     "output_type": "execute_result"
    },
    {
     "data": {
      "image/png": "[encoded data removed]",
      "text/plain": [
       "<matplotlib.figure.Figure at 0x11d1ac5c0>"
      ]
     },
     "metadata": {
      "needs_background": "light"
     },
     "output_type": "display_data"
    }
   ],
   "source": [
    "test_im = imgray/255\n",
    "\n",
    "test_im[test_im>0.5]=1\n",
    "test_im[test_im<0.5]=0\n",
    "\n",
    "kernel = np.ones((8,8),np.uint8)   \n",
    "#opening = cv2.morphologyEx(test_im, cv2.MORPH_OPEN, kernel)\n",
    "#closing = cv2.morphologyEx(test_im, cv2.MORPH_CLOSE, kernel)\n",
    "img_dilation = cv2.dilate(test_im, kernel, iterations=1)\n",
    "img_dilation = cv2.normalize(src=img_dilation, dst=None, alpha=0, beta=255, norm_type=cv2.NORM_MINMAX, dtype=cv2.CV_8UC1)\n",
    "plt.imshow(img_dilation,cmap='gray')"
   ]
  },
  {
   "cell_type": "code",
   "execution_count": 5,
   "metadata": {
    "collapsed": true
   },
   "outputs": [],
   "source": [
    "im2, contours, hierarchy = cv2.findContours(img_dilation,cv2.RETR_TREE,cv2.CHAIN_APPROX_SIMPLE)"
   ]
  },
  {
   "cell_type": "code",
   "execution_count": 6,
   "metadata": {
    "collapsed": true
   },
   "outputs": [],
   "source": [
    "#cv2.drawContours(im, contours, -1, (0,255,0), 3)"
   ]
  },
  {
   "cell_type": "code",
   "execution_count": 7,
   "metadata": {
    "collapsed": true
   },
   "outputs": [],
   "source": [
    "#plt.imshow(im,cmap='gray')"
   ]
  },
  {
   "cell_type": "code",
   "execution_count": 8,
   "metadata": {},
   "outputs": [
    {
     "data": {
      "text/plain": [
       "\"\\nx=[]\\ny=[]\\nfor i in range(0,len(contours)):\\n    cnt = contours[i]\\n    M = cv2.moments(cnt)\\n    cx = int(M['m10']/M['m00'])\\n    cy = int(M['m01']/M['m00'])\\n    x.append(cx)\\n    y.append(cy)\\nprint(x)\\nprint(y)\\n\""
      ]
     },
     "execution_count": 8,
     "metadata": {},
     "output_type": "execute_result"
    }
   ],
   "source": [
    "'''\n",
    "x=[]\n",
    "y=[]\n",
    "for i in range(0,len(contours)):\n",
    "    cnt = contours[i]\n",
    "    M = cv2.moments(cnt)\n",
    "    cx = int(M['m10']/M['m00'])\n",
    "    cy = int(M['m01']/M['m00'])\n",
    "    x.append(cx)\n",
    "    y.append(cy)\n",
    "print(x)\n",
    "print(y)\n",
    "'''"
   ]
  },
  {
   "cell_type": "code",
   "execution_count": 9,
   "metadata": {
    "collapsed": true
   },
   "outputs": [],
   "source": [
    "for cnt in contours:\n",
    "    hull = cv2.convexHull(cnt)\n",
    "    #cv2.drawContours(im, [hull], -1, (0, 0, 255), 1)"
   ]
  },
  {
   "cell_type": "code",
   "execution_count": 10,
   "metadata": {
    "collapsed": true
   },
   "outputs": [],
   "source": [
    "#print(hull)"
   ]
  },
  {
   "cell_type": "code",
   "execution_count": 11,
   "metadata": {
    "collapsed": true
   },
   "outputs": [],
   "source": [
    "im2 = cv2.imread(\"test_results_1/original_normalized_4/DSLC0006-normalized.bmp\")"
   ]
  },
  {
   "cell_type": "code",
   "execution_count": 57,
   "metadata": {},
   "outputs": [
    {
     "data": {
      "text/plain": [
       "<matplotlib.image.AxesImage at 0x11f570828>"
      ]
     },
     "execution_count": 57,
     "metadata": {},
     "output_type": "execute_result"
    },
    {
     "data": {
      "image/png": "[encoded data removed]",
      "text/plain": [
       "<matplotlib.figure.Figure at 0x11db90208>"
      ]
     },
     "metadata": {
      "needs_background": "light"
     },
     "output_type": "display_data"
    }
   ],
   "source": [
    "def find_if_close(cnt1,cnt2):\n",
    "    row1,row2 = cnt1.shape[0],cnt2.shape[0]\n",
    "    for i in range(0,row1):\n",
    "        for j in range(0,row2):\n",
    "            dist = np.linalg.norm(cnt1[i]-cnt2[j])\n",
    "            if abs(dist) < 30 :\n",
    "                return True\n",
    "            elif i==row1-1 and j==row2-1:\n",
    "                return False\n",
    "\n",
    "#img = cv2.imread('dspcnt.jpg')\n",
    "#gray = cv2.cvtColor(img,cv2.COLOR_BGR2GRAY)\n",
    "#ret,thresh = cv2.threshold(gray,127,255,0)\n",
    "_,contours,hier = cv2.findContours(img_dilation,cv2.RETR_EXTERNAL,2)\n",
    "\n",
    "LENGTH = len(contours)\n",
    "status = np.zeros((LENGTH,1))\n",
    "\n",
    "for i,cnt1 in enumerate(contours):\n",
    "    x = i    \n",
    "    if i != LENGTH-1:\n",
    "        for j,cnt2 in enumerate(contours[i+1:]):\n",
    "            x = x+1\n",
    "            dist = find_if_close(cnt1,cnt2)\n",
    "            if dist == True:\n",
    "                val = min(status[i],status[x])\n",
    "                status[x] = status[i] = val\n",
    "            else:\n",
    "                if status[x]==status[i]:\n",
    "                    status[x] = i+1\n",
    "\n",
    "unified = []\n",
    "maximum = int(status.max())+1\n",
    "for i in range(0,maximum):\n",
    "    pos = np.where(status==i)[0]\n",
    "    if pos.size != 0:\n",
    "        cont = np.vstack(contours[i] for i in pos)\n",
    "        #print(cont)\n",
    "        hull = cv2.convexHull(cont)\n",
    "        #print (hull)\n",
    "        unified.append(hull)\n",
    "\n",
    "cv2.drawContours(im2,unified,-1,(0,255,0),2)\n",
    "plt.imshow(im2,cmap='gray')"
   ]
  },
  {
   "cell_type": "code",
   "execution_count": 13,
   "metadata": {},
   "outputs": [
    {
     "name": "stdout",
     "output_type": "stream",
     "text": [
      "[ 3.6 17.7 14.6 26.3]\n",
      "[11.  14.2  5.9  4.3]\n"
     ]
    }
   ],
   "source": [
    "x=[]\n",
    "y=[]\n",
    "for i in range(0,len(unified)):\n",
    "    cnt = unified[i]\n",
    "    M = cv2.moments(cnt)\n",
    "    cx = int(M['m10']/M['m00'])\n",
    "    cy = int(M['m01']/M['m00'])\n",
    "    x.append(cx)\n",
    "    y.append(cy)\n",
    "x=np.array(x)\n",
    "y=np.array(y)\n",
    "x=x/10\n",
    "y=y/10\n",
    "print(x)\n",
    "print(y)"
   ]
  },
  {
   "cell_type": "code",
   "execution_count": 14,
   "metadata": {},
   "outputs": [
    {
     "data": {
      "text/plain": [
       "<matplotlib.image.AxesImage at 0x11d431240>"
      ]
     },
     "execution_count": 14,
     "metadata": {},
     "output_type": "execute_result"
    },
    {
     "data": {
      "image/png": "[encoded data removed]",
      "text/plain": [
       "<matplotlib.figure.Figure at 0x11d203198>"
      ]
     },
     "metadata": {
      "needs_background": "light"
     },
     "output_type": "display_data"
    }
   ],
   "source": [
    "plt.imshow(im2,cmap='gray')"
   ]
  },
  {
   "cell_type": "code",
   "execution_count": 60,
   "metadata": {},
   "outputs": [
    {
     "name": "stdout",
     "output_type": "stream",
     "text": [
      "(240, 320, 3)\n"
     ]
    }
   ],
   "source": [
    "im3 = cv2.imread(\"test_results_1/original_normalized_4/DSLC0006-normalized.bmp\")\n",
    "#print(im3.shape)\n",
    "#im3= im3/255\n",
    "\n",
    "#im3[im3>0.5]=1\n",
    "#im3[im3<0.5]=0\n",
    "print(im3.shape)\n"
   ]
  },
  {
   "cell_type": "code",
   "execution_count": 61,
   "metadata": {},
   "outputs": [
    {
     "data": {
      "text/plain": [
       "<matplotlib.image.AxesImage at 0x11e864be0>"
      ]
     },
     "execution_count": 61,
     "metadata": {},
     "output_type": "execute_result"
    },
    {
     "data": {
      "image/png": "[encoded data removed]",
      "text/plain": [
       "<matplotlib.figure.Figure at 0x11f84bcc0>"
      ]
     },
     "metadata": {
      "needs_background": "light"
     },
     "output_type": "display_data"
    }
   ],
   "source": [
    "plt.imshow(im3,cmap='gray')"
   ]
  },
  {
   "cell_type": "code",
   "execution_count": 62,
   "metadata": {},
   "outputs": [
    {
     "name": "stdout",
     "output_type": "stream",
     "text": [
      "(240, 320, 3)\n"
     ]
    },
    {
     "data": {
      "text/plain": [
       "<matplotlib.image.AxesImage at 0x11fba5eb8>"
      ]
     },
     "execution_count": 62,
     "metadata": {},
     "output_type": "execute_result"
    },
    {
     "data": {
      "image/png": "[encoded data removed]",
      "text/plain": [
       "<matplotlib.figure.Figure at 0x11f8d0b00>"
      ]
     },
     "metadata": {
      "needs_background": "light"
     },
     "output_type": "display_data"
    }
   ],
   "source": [
    "black = np.zeros_like(im3)\n",
    "print(black.shape)\n",
    "plt.imshow(black,cmap='gray')"
   ]
  },
  {
   "cell_type": "code",
   "execution_count": 33,
   "metadata": {},
   "outputs": [
    {
     "name": "stdout",
     "output_type": "stream",
     "text": [
      "4\n"
     ]
    }
   ],
   "source": [
    "print(len(unified))"
   ]
  },
  {
   "cell_type": "code",
   "execution_count": 18,
   "metadata": {},
   "outputs": [
    {
     "name": "stdout",
     "output_type": "stream",
     "text": [
      "i 0\n"
     ]
    },
    {
     "ename": "error",
     "evalue": "/Users/swati/opencv/modules/imgproc/src/color.cpp:10600: error: (-215) depth == CV_8U || depth == CV_16U || depth == CV_32F in function cvtColor\n",
     "output_type": "error",
     "traceback": [
      "\u001b[0;31m---------------------------------------------------------------------------\u001b[0m",
      "\u001b[0;31merror\u001b[0m                                     Traceback (most recent call last)",
      "\u001b[0;32m<ipython-input-18-cd184ee703bd>\u001b[0m in \u001b[0;36m<module>\u001b[0;34m()\u001b[0m\n\u001b[1;32m     11\u001b[0m     \u001b[0mcv2\u001b[0m\u001b[0;34m.\u001b[0m\u001b[0mdrawContours\u001b[0m\u001b[0;34m(\u001b[0m\u001b[0mblack2\u001b[0m\u001b[0;34m,\u001b[0m \u001b[0;34m[\u001b[0m\u001b[0mh\u001b[0m\u001b[0;34m]\u001b[0m\u001b[0;34m,\u001b[0m \u001b[0;34m-\u001b[0m\u001b[0;36m1\u001b[0m\u001b[0;34m,\u001b[0m \u001b[0;34m(\u001b[0m\u001b[0;36m255\u001b[0m\u001b[0;34m,\u001b[0m \u001b[0;36m255\u001b[0m\u001b[0;34m,\u001b[0m \u001b[0;36m255\u001b[0m\u001b[0;34m)\u001b[0m\u001b[0;34m,\u001b[0m \u001b[0;34m-\u001b[0m\u001b[0;36m1\u001b[0m\u001b[0;34m)\u001b[0m\u001b[0;34m\u001b[0m\u001b[0m\n\u001b[1;32m     12\u001b[0m \u001b[0;34m\u001b[0m\u001b[0m\n\u001b[0;32m---> 13\u001b[0;31m     \u001b[0mg2\u001b[0m \u001b[0;34m=\u001b[0m \u001b[0mcv2\u001b[0m\u001b[0;34m.\u001b[0m\u001b[0mcvtColor\u001b[0m\u001b[0;34m(\u001b[0m\u001b[0mblack2\u001b[0m\u001b[0;34m,\u001b[0m \u001b[0mcv2\u001b[0m\u001b[0;34m.\u001b[0m\u001b[0mCOLOR_BGR2GRAY\u001b[0m\u001b[0;34m)\u001b[0m\u001b[0;34m\u001b[0m\u001b[0m\n\u001b[0m\u001b[1;32m     14\u001b[0m     \u001b[0mr\u001b[0m\u001b[0;34m,\u001b[0m \u001b[0mt2\u001b[0m \u001b[0;34m=\u001b[0m \u001b[0mcv2\u001b[0m\u001b[0;34m.\u001b[0m\u001b[0mthreshold\u001b[0m\u001b[0;34m(\u001b[0m\u001b[0mg2\u001b[0m\u001b[0;34m,\u001b[0m \u001b[0;36m127\u001b[0m\u001b[0;34m,\u001b[0m \u001b[0;36m255\u001b[0m\u001b[0;34m,\u001b[0m \u001b[0mcv2\u001b[0m\u001b[0;34m.\u001b[0m\u001b[0mTHRESH_BINARY\u001b[0m\u001b[0;34m)\u001b[0m\u001b[0;34m\u001b[0m\u001b[0m\n\u001b[1;32m     15\u001b[0m     \u001b[0;31m#cv2.imshow(\"t2.jpg\", t2)\u001b[0m\u001b[0;34m\u001b[0m\u001b[0;34m\u001b[0m\u001b[0m\n",
      "\u001b[0;31merror\u001b[0m: /Users/swati/opencv/modules/imgproc/src/color.cpp:10600: error: (-215) depth == CV_8U || depth == CV_16U || depth == CV_32F in function cvtColor\n"
     ]
    }
   ],
   "source": [
    "i=0\n",
    "odds = 0\n",
    "for h in unified:\n",
    "    #hull = cv2.convexHull(cnt)\n",
    "    print(\"i\",i)\n",
    "    i+=1\n",
    "    img = im3.copy()\n",
    "    black2 = black.copy()\n",
    "\n",
    "    #--- Here is where I am filling the contour after finding the convex hull ---\n",
    "    cv2.drawContours(black2, [h], -1, (255, 255, 255), -1)\n",
    "    \n",
    "    g2 = cv2.cvtColor(black2, cv2.COLOR_BGR2GRAY)\n",
    "    r, t2 = cv2.threshold(g2, 127, 255, cv2.THRESH_BINARY)\n",
    "    #cv2.imshow(\"t2.jpg\", t2)\n",
    "\n",
    "    masked = cv2.bitwise_and(im3, im3, mask = t2) \n",
    "    masked=cv2.cvtColor(masked,cv2.COLOR_BGR2GRAY)\n",
    "    #masked[masked>127]=1\n",
    "    #masked[masked<127]=0\n",
    "    M = cv2.moments(h)\n",
    "    cx = int(M['m10']/M['m00'])\n",
    "    cy = int(M['m01']/M['m00'])\n",
    "    cx=cx/10\n",
    "    cy=cy/10\n",
    "    height, width = masked.shape[:2]\n",
    "    ymax = int(height/10)\n",
    "    xmax = int(width/10)\n",
    "    masked = cv2.resize(masked,(int(height/10), int(width/10)))\n",
    "    \n",
    "    for theta in range (0,360):\n",
    "        theta = 0.5*theta\n",
    "        print(theta)\n",
    "        r=1\n",
    "        x1=1\n",
    "        y1=1\n",
    "        intersects=0        \n",
    "        #cx=cx/10\n",
    "        #cy=cy/10\n",
    "        while(x1<xmax-1 and y1<ymax-1 and x1>-1 and y1>-1):\n",
    "            x=r*math.cos(math.radians(theta))\n",
    "            y=r*math.sin(math.radians(theta))\n",
    "            x1=int(x+cx)\n",
    "            y1=int(y+cy)\n",
    "            print(x1,y1)\n",
    "            if(masked[x1][y1]==1):\n",
    "                intersects+=1\n",
    "            print(\"r\",r)\n",
    "            r+=0.5\n",
    "        \n",
    "        r=1\n",
    "        x1=1\n",
    "        y1=1\n",
    "        while(x1>-1 and y1>-1 and x1<xmax-1 and y1<ymax-1):\n",
    "            x=r*math.cos(math.radians(theta))\n",
    "            y=r*math.sin(math.radians(theta))\n",
    "            x1=int(x+cx)\n",
    "            y1=int(y+cy)\n",
    "            print(x1,y1)\n",
    "            if(masked[x1][y1]):\n",
    "                intersects+=1\n",
    "            r-=0.5 \n",
    "            \n",
    "               \n",
    "        print(\"intersects\",intersects)   \n",
    "        if (intersects%2):\n",
    "            odds+=1\n",
    "    print(\"odds\",odds)\n",
    "    cv2.imwrite(\"masked\"+str(i)+\".jpg\", masked)\n",
    "    i=i+1\n",
    "\n",
    "    "
   ]
  },
  {
   "cell_type": "code",
   "execution_count": 68,
   "metadata": {},
   "outputs": [
    {
     "data": {
      "text/plain": [
       "<matplotlib.image.AxesImage at 0x120403908>"
      ]
     },
     "execution_count": 68,
     "metadata": {},
     "output_type": "execute_result"
    },
    {
     "data": {
      "image/png": "[encoded data removed]",
      "text/plain": [
       "<matplotlib.figure.Figure at 0x12020ecf8>"
      ]
     },
     "metadata": {
      "needs_background": "light"
     },
     "output_type": "display_data"
    }
   ],
   "source": [
    "h= unified[3]\n",
    "img = im3.copy()\n",
    "black2 = black.copy()\n",
    "\n",
    "#--- Here is where I am filling the contour after finding the convex hull ---\n",
    "cv2.drawContours(black2, [h], -1, (255, 255, 255), -1)\n",
    "#mask = cv2.imread(\"masked1.jpg\")\n",
    "#plt.imshow(black2,cmap='gray')\n",
    "#print(mask.shape)\n",
    "#print(black2)\n",
    "g2 = cv2.cvtColor(black2, cv2.COLOR_BGR2GRAY)\n",
    "r, t2 = cv2.threshold(g2, 127, 255, cv2.THRESH_BINARY)\n",
    "#plt.imshow(t2,cmap='gray')\n",
    "\n",
    "masked = cv2.bitwise_and(im3, im3, mask = t2) \n",
    "plt.imshow(masked,cmap='gray')"
   ]
  },
  {
   "cell_type": "code",
   "execution_count": 17,
   "metadata": {},
   "outputs": [
    {
     "name": "stdout",
     "output_type": "stream",
     "text": [
      "32\n",
      "(32, 24)\n"
     ]
    }
   ],
   "source": [
    "print(xmax)\n",
    "print(masked.shape)"
   ]
  },
  {
   "cell_type": "code",
   "execution_count": 39,
   "metadata": {},
   "outputs": [
    {
     "name": "stdout",
     "output_type": "stream",
     "text": [
      "(32, 24, 3)\n"
     ]
    },
    {
     "data": {
      "image/png": "[encoded data removed]",
      "text/plain": [
       "<matplotlib.figure.Figure at 0x11dd93048>"
      ]
     },
     "metadata": {
      "needs_background": "light"
     },
     "output_type": "display_data"
    }
   ],
   "source": [
    "mask = cv2.imread(\"masked1.jpg\")\n",
    "plt.imshow(mask,cmap='gray')\n",
    "print(mask.shape)\n"
   ]
  },
  {
   "cell_type": "code",
   "execution_count": 64,
   "metadata": {},
   "outputs": [
    {
     "name": "stdout",
     "output_type": "stream",
     "text": [
      "21\n"
     ]
    }
   ],
   "source": [
    "print(odds)"
   ]
  },
  {
   "cell_type": "code",
   "execution_count": 32,
   "metadata": {},
   "outputs": [
    {
     "name": "stdout",
     "output_type": "stream",
     "text": [
      "0.0\n",
      "0.0\n",
      "0 0\n"
     ]
    }
   ],
   "source": [
    "theta = 0.5\n",
    "r=1\n",
    "x=r*math.cos(math.radians(theta))\n",
    "y=r*math.sin(math.radians(theta))\n",
    "print(cx)\n",
    "print(cy)\n",
    "x1=int(x+cx)\n",
    "y1=int(y+cy)\n",
    "print(x1,y1)"
   ]
  },
  {
   "cell_type": "code",
   "execution_count": 22,
   "metadata": {},
   "outputs": [
    {
     "data": {
      "text/plain": [
       "<matplotlib.image.AxesImage at 0x11f4fd5f8>"
      ]
     },
     "execution_count": 22,
     "metadata": {},
     "output_type": "execute_result"
    },
    {
     "data": {
      "image/png": "[encoded data removed]",
      "text/plain": [
       "<matplotlib.figure.Figure at 0x11f4724a8>"
      ]
     },
     "metadata": {
      "needs_background": "light"
     },
     "output_type": "display_data"
    }
   ],
   "source": [
    "plt.imshow(masked,cmap='gray')"
   ]
  },
  {
   "cell_type": "code",
   "execution_count": 47,
   "metadata": {
    "collapsed": true
   },
   "outputs": [],
   "source": [
    "im4  = cv2.imread(\"test_results_1/original_normalized_4/DSLC0006-normalized.bmp\",0)"
   ]
  },
  {
   "cell_type": "code",
   "execution_count": 48,
   "metadata": {},
   "outputs": [
    {
     "name": "stdout",
     "output_type": "stream",
     "text": [
      "(240, 320)\n"
     ]
    }
   ],
   "source": [
    "print(im4.shape)"
   ]
  },
  {
   "cell_type": "code",
   "execution_count": 52,
   "metadata": {
    "collapsed": true
   },
   "outputs": [],
   "source": [
    "height, width = im4.shape[:2]\n",
    "res = cv2.resize(im4,(int(width/10), int(height/10)))"
   ]
  },
  {
   "cell_type": "code",
   "execution_count": 53,
   "metadata": {},
   "outputs": [
    {
     "data": {
      "text/plain": [
       "<matplotlib.image.AxesImage at 0x124e64240>"
      ]
     },
     "execution_count": 53,
     "metadata": {},
     "output_type": "execute_result"
    },
    {
     "data": {
      "image/png": "[encoded data removed]",
      "text/plain": [
       "<matplotlib.figure.Figure at 0x124906e10>"
      ]
     },
     "metadata": {
      "needs_background": "light"
     },
     "output_type": "display_data"
    }
   ],
   "source": [
    "plt.imshow(im4,cmap='gray')"
   ]
  },
  {
   "cell_type": "code",
   "execution_count": 69,
   "metadata": {
    "collapsed": true
   },
   "outputs": [],
   "source": [
    "keep_prob=0.8"
   ]
  },
  {
   "cell_type": "code",
   "execution_count": 72,
   "metadata": {
    "collapsed": true
   },
   "outputs": [],
   "source": [
    "a3=[1,1,1,1,1,1]\n",
    "a3 = np.array(a3)"
   ]
  },
  {
   "cell_type": "code",
   "execution_count": 73,
   "metadata": {},
   "outputs": [],
   "source": [
    "d3=np.random.rand(a3.shape[0])<keep_prob"
   ]
  },
  {
   "cell_type": "code",
   "execution_count": 74,
   "metadata": {},
   "outputs": [
    {
     "name": "stdout",
     "output_type": "stream",
     "text": [
      "[ True  True  True False  True False]\n"
     ]
    }
   ],
   "source": [
    "print(d3)"
   ]
  },
  {
   "cell_type": "code",
   "execution_count": 76,
   "metadata": {},
   "outputs": [],
   "source": [
    "a3=np.multiply(a3,d3)"
   ]
  },
  {
   "cell_type": "code",
   "execution_count": 77,
   "metadata": {},
   "outputs": [
    {
     "name": "stdout",
     "output_type": "stream",
     "text": [
      "[1 1 1 0 1 0]\n"
     ]
    }
   ],
   "source": [
    "print(a3)"
   ]
  },
  {
   "cell_type": "code",
   "execution_count": null,
   "metadata": {
    "collapsed": true
   },
   "outputs": [],
   "source": []
  }
 ],
 "metadata": {
  "kernelspec": {
   "display_name": "cv",
   "language": "python",
   "name": "cv"
  },
  "language_info": {
   "codemirror_mode": {
    "name": "ipython",
    "version": 3
   },
   "file_extension": ".py",
   "mimetype": "text/x-python",
   "name": "python",
   "nbconvert_exporter": "python",
   "pygments_lexer": "ipython3",
   "version": "3.6.2"
  }
 },
 "nbformat": 4,
 "nbformat_minor": 2
}
